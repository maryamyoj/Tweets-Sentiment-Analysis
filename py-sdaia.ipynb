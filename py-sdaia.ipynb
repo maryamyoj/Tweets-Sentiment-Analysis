{
 "cells": [
  {
   "cell_type": "code",
   "execution_count": 13,
   "id": "4c0836e6-0ac2-4a41-804e-fa5824e2659e",
   "metadata": {},
   "outputs": [],
   "source": [
    "# Function to read words from a file and return a list\n",
    "def read_words_from_file(file_path):\n",
    "    with open(file_path, 'r') as file:\n",
    "        words = file.read().splitlines()\n",
    "    return words"
   ]
  },
  {
   "cell_type": "code",
   "execution_count": 21,
   "id": "8a40e396-4663-4728-89f0-1f9854dc2339",
   "metadata": {},
   "outputs": [],
   "source": [
    "# Read positive and negative words from files\n",
    "positive_words = read_words_from_file(\"C:\\\\Users\\\\DELL\\\\Downloads\\\\words_positive.txt\")\n",
    "negative_words = read_words_from_file(\"C:\\\\Users\\\\DELL\\\\Downloads\\\\words_negative.txt\")"
   ]
  },
  {
   "cell_type": "code",
   "execution_count": 23,
   "id": "2176dfa0-1a21-4e3d-b654-4a321b7bf091",
   "metadata": {},
   "outputs": [],
   "source": [
    "# Function to calculate sentiment score of a tweet\n",
    "def get_sentiment_score(tweet):\n",
    "    positive_score = sum(word in tweet for word in positive_words)\n",
    "    negative_score = sum(word in tweet for word in negative_words)\n",
    "    return positive_score - negative_score"
   ]
  },
  {
   "cell_type": "code",
   "execution_count": 29,
   "id": "35bde72b-c270-4cad-95f6-091657c07e81",
   "metadata": {},
   "outputs": [],
   "source": [
    "# Read tweets from file\n",
    "with open('C:\\\\Users\\\\DELL\\\\Downloads\\\\tweets.txt', 'r') as file:\n",
    "    tweets = file.readlines()"
   ]
  },
  {
   "cell_type": "code",
   "execution_count": 31,
   "id": "c4ecb2a2-7f74-453d-bccb-73e38eb6c545",
   "metadata": {},
   "outputs": [],
   "source": [
    "# Calculate sentiment scores for tweets\n",
    "tweet_scores = [(tweet, get_sentiment_score(tweet)) for tweet in tweets]"
   ]
  },
  {
   "cell_type": "code",
   "execution_count": 33,
   "id": "6dd490c6-433f-4e66-9e68-4873e7d5d4bc",
   "metadata": {},
   "outputs": [],
   "source": [
    "# Sort tweets by sentiment score (most positive first)\n",
    "sorted_tweets = sorted(tweet_scores, key=lambda x: x[1], reverse=True)"
   ]
  },
  {
   "cell_type": "code",
   "execution_count": 35,
   "id": "b4ed4790-ee2b-413f-9b33-2be7311454f7",
   "metadata": {},
   "outputs": [
    {
     "name": "stdout",
     "output_type": "stream",
     "text": [
      "Score: 6\tTweet: The intelligent and talented young woman had a bright future ahead of her. She was passionate about her work and she was determined to make a difference in the world\n",
      "\n",
      "Score: 5\tTweet: The beautiful flowers were in full bloom and the sweet scent filled the air. The birds were singing merrily and the sun was shining brightly. It was a perfect day\n",
      "\n",
      "Score: 4\tTweet: The kind and generous old man was always willing to help others. He was a role model for the entire community and he was loved by everyone\n",
      "\n",
      "Score: 3\tTweet: Grateful for the amazing people in my life who make it so wonderful\n",
      "\n",
      "Score: 3\tTweet: Sending out good vibes to everyone today! Have a beautiful day!\n",
      "\n",
      "Score: 0\tTweet: \n",
      "\n",
      "Score: 0\tTweet: \n",
      "\n",
      "Score: 0\tTweet: \n",
      "\n",
      "Score: 0\tTweet: \n",
      "\n",
      "Score: 0\tTweet: \n",
      "\n",
      "Score: 0\tTweet: \n",
      "\n",
      "Score: 0\tTweet: \n",
      "\n",
      "Score: 0\tTweet: \n",
      "\n",
      "Score: 0\tTweet: \n",
      "\n",
      "Score: 0\tTweet: \n",
      "\n",
      "Score: 0\tTweet: Went out with some friends last night but didn't have as much fun as I thought. Felt a bit lonely and left early feeling uneasy.\n",
      "Score: -2\tTweet: I've been feeling so anxious and stressed lately with everything going on. Really need a break from it all.\n",
      "\n",
      "Score: -2\tTweet: All the noise from the construction outside is driving me nuts. It's making working from home dreadful.\n",
      "\n",
      "Score: -3\tTweet: Traffic was the worst it's ever been today. The long commute just made me feel grumpy and drained.\n",
      "\n",
      "Score: -5\tTweet: Had an awful morning - overslept and missed my first meeting. Feeling uneasy about how my boss will react.\n",
      "\n"
     ]
    }
   ],
   "source": [
    "# Display sorted tweets\n",
    "for tweet, score in sorted_tweets:\n",
    "    print(f'Score: {score}\\tTweet: {tweet}')"
   ]
  },
  {
   "cell_type": "code",
   "execution_count": null,
   "id": "ad4c8e78-4637-4c2b-ba91-cac8a11f4408",
   "metadata": {},
   "outputs": [],
   "source": []
  }
 ],
 "metadata": {
  "kernelspec": {
   "display_name": "Python 3 (ipykernel)",
   "language": "python",
   "name": "python3"
  },
  "language_info": {
   "codemirror_mode": {
    "name": "ipython",
    "version": 3
   },
   "file_extension": ".py",
   "mimetype": "text/x-python",
   "name": "python",
   "nbconvert_exporter": "python",
   "pygments_lexer": "ipython3",
   "version": "3.11.7"
  }
 },
 "nbformat": 4,
 "nbformat_minor": 5
}
